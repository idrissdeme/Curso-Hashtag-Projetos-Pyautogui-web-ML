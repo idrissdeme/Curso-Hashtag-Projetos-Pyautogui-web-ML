{
  "cells": [
    {
      "cell_type": "markdown",
      "metadata": {
        "id": "view-in-github",
        "colab_type": "text"
      },
      "source": [
        "<a href=\"https://colab.research.google.com/github/idrissdeme/Curso-Hashtag-Projetos-Pyautogui-web-ML/blob/main/Arquivo_Inicial_Aula_2.ipynb\" target=\"_parent\"><img src=\"https://colab.research.google.com/assets/colab-badge.svg\" alt=\"Open In Colab\"/></a>"
      ]
    },
    {
      "cell_type": "markdown",
      "metadata": {
        "id": "EmGZkKvoD_Qt"
      },
      "source": [
        "# Análise de Dados com Python\n",
        "\n",
        "### Desafio:\n",
        "\n",
        "Você trabalha em uma empresa de telecom e tem clientes de vários serviços diferentes, entre os principais: internet e telefone.\n",
        "\n",
        "O problema é que, analisando o histórico dos clientes dos últimos anos, você percebeu que a empresa está com Churn de mais de 26% dos clientes.\n",
        "\n",
        "Isso representa uma perda de milhões para a empresa.\n",
        "\n",
        "O que a empresa precisa fazer para resolver isso?\n",
        "\n",
        "Base de Dados: https://drive.google.com/drive/folders/1T7D0BlWkNuy_MDpUHuBG44kT80EmRYIs?usp=sharing <br>\n",
        "Link Original do Kaggle: https://www.kaggle.com/radmirzosimov/telecom-users-dataset"
      ]
    },
    {
      "cell_type": "code",
      "execution_count": null,
      "metadata": {
        "id": "726qbUcxD_Q7"
      },
      "outputs": [],
      "source": []
    },
    {
      "cell_type": "markdown",
      "metadata": {
        "id": "Q-x_JcO3D_Q9"
      },
      "source": [
        "### Conclusões e Ações"
      ]
    },
    {
      "cell_type": "markdown",
      "metadata": {
        "id": "8aGvvkyAD_Q_"
      },
      "source": [
        "Escreva aqui suas conclusões:"
      ]
    }
  ],
  "metadata": {
    "kernelspec": {
      "display_name": "Python 3",
      "language": "python",
      "name": "python3"
    },
    "language_info": {
      "codemirror_mode": {
        "name": "ipython",
        "version": 3
      },
      "file_extension": ".py",
      "mimetype": "text/x-python",
      "name": "python",
      "nbconvert_exporter": "python",
      "pygments_lexer": "ipython3",
      "version": "3.8.8"
    },
    "colab": {
      "provenance": [],
      "include_colab_link": true
    }
  },
  "nbformat": 4,
  "nbformat_minor": 0
}